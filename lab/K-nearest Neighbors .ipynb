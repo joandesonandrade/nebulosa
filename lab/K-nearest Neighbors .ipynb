{
 "cells": [
  {
   "cell_type": "markdown",
   "metadata": {},
   "source": [
    "# K-nearest Neighbors - k-NN\n",
    "\n",
    "O algoritmo k-vizinhos mais próximos (k-NN) é um método não paramétrico usado para classificação e regressão. Nos dois casos, a entrada consiste nos k(matrizes) exemplos de treinamento. A saída depende se k-NN é usado para classificação ou regressão:\n",
    "Na classificação k-NN, a saída é uma associação de classe. Um objeto é classificado pelo voto de pluralidade de seus vizinhos, sendo o objeto atribuído à classe mais comum entre os k-vizinhos mais próximos (k é um número inteiro positivo, geralmente pequeno). Se k = 1, o objeto é simplesmente atribuído à classe do único vizinho mais próximo, a forma mais comun de achar a classe é utilizando a distância vetorial das matrizes k-dados em relação as as matrizes k-modelo.\n",
    "Na regressão k-NN, a saída é o valor da propriedade para o objeto. Este valor é a média dos valores de k vizinhos mais próximos."
   ]
  },
  {
   "cell_type": "markdown",
   "metadata": {},
   "source": [
    "### Processamento dos dados"
   ]
  },
  {
   "cell_type": "markdown",
   "metadata": {},
   "source": [
    "#### Banco de dados\n",
    "No exemplo irei utilizar um banco de dados onde mostra o clima, e a classe com valores binários 1 ou 0 onde 1 é jogou, 0 não jogou. Neste exemplo vou aplicar o k-NN para prevê baseado no clima, se haverá jogo ou não."
   ]
  },
  {
   "cell_type": "code",
   "execution_count": 1,
   "metadata": {},
   "outputs": [
    {
     "name": "stdout",
     "output_type": "stream",
     "text": [
      "clima,temperatura,jogou\n",
      "\"Ensolarado\",\"Quente\",\"Sim\"\n",
      "\"Ensolarado\",\"Quente\",\"Nao\"\n",
      "\"Nublado\",\"Quente\",\"Sim\"\n",
      "\"Chuvoso\",\"Suave\",\"Sim\"\n",
      "\"Chuvoso\",\"Legal\",\"Sim\"\n",
      "\"Chuvoso\",\"Legal\",\"Nao\"\n",
      "\"Nublado\",\"Legal\",\"Sim\"\n",
      "\"Ensolarado\",\"Suave\",\"Nao\"\n",
      "\"Ensolarado\",\"Legal\",\"Sim\"\n",
      "\"Chuvoso\",\"Suave\",\"Sim\"\n",
      "\"Ensolarado\",\"Suave\",\"Sim\"\n",
      "\"Nublado\",\"Suave\",\"Sim\"\n",
      "\"Nublado\",\"Quente\",\"Sim\"\n",
      "\"Chuvoso\",\"Suave\",\"Nao\"\n"
     ]
    }
   ],
   "source": [
    "print(open('dados/001.csv', 'r').read())"
   ]
  },
  {
   "cell_type": "code",
   "execution_count": 19,
   "metadata": {},
   "outputs": [
    {
     "name": "stdout",
     "output_type": "stream",
     "text": [
      "[1 0 1 1 1 0 1 0 1 1 1 1 1 0]\n"
     ]
    }
   ],
   "source": [
    "from sklearn import preprocessing\n",
    "import pandas as pd\n",
    "import numpy as np\n",
    "\n",
    "#Abrindo o dados como Dataframe\n",
    "dados = pd.read_csv('dados/001.csv')\n",
    "\n",
    "#Iniciando o método para binanizar as classe sim=1; não=0\n",
    "pre = preprocessing.LabelBinarizer()\n",
    "\n",
    "#Binazirando a classe jogou, e atribuíndo a uma matriz n-dimencional\n",
    "y_binary = pre.fit_transform(dados['jogou'])\n",
    "y = np.array(y_binary, dtype=np.int32).ravel()# utilize o ravel() para remover um n-dimensão dos elementos\n",
    "\n",
    "print(y)"
   ]
  },
  {
   "cell_type": "code",
   "execution_count": 6,
   "metadata": {},
   "outputs": [
    {
     "name": "stdout",
     "output_type": "stream",
     "text": [
      "(14,)\n"
     ]
    }
   ],
   "source": [
    "#Vamos ver a dimensão desta matriz: no caso o resultado foi 14x1, ou seja 14 coluna por 0 linhas.\n",
    "print(y.shape)"
   ]
  },
  {
   "cell_type": "code",
   "execution_count": 7,
   "metadata": {
    "scrolled": true
   },
   "outputs": [
    {
     "name": "stdout",
     "output_type": "stream",
     "text": [
      "[(1, 1, 1), (1, 1, 0), (2, 1, 1), (0, 2, 1), (0, 0, 1), (0, 0, 0), (2, 0, 1), (1, 2, 0), (1, 0, 1), (0, 2, 1), (1, 2, 1), (2, 2, 1), (2, 1, 1), (0, 2, 0)]\n"
     ]
    }
   ],
   "source": [
    "#Agora iremos transformar os rótulos em números... seguindo a lógica sequêncial A, B, B tal que A=1; B=2; C=2 ....\n",
    "\n",
    "#Adicionando todos os dados em lista\n",
    "lista_clima = [x for x in dados['clima']]\n",
    "lista_temperatura = [x for x in dados['temperatura']]\n",
    "lista_jogou = [x for x in dados['jogou']]\n",
    "\n",
    "#Iniciando o algoritmo que irá converter os rótulos em números\n",
    "pre = preprocessing.LabelEncoder()\n",
    "\n",
    "#Convertendo os rótulos em números e atribuindo em variáveis\n",
    "clima_encoding = pre.fit_transform(lista_clima)\n",
    "temperatura_encoding = pre.fit_transform(lista_temperatura)\n",
    "jogou_encoding = pre.fit_transform(lista_jogou)\n",
    "\n",
    "#Juntando tudo em túplas de 3 elementos númericos\n",
    "lista = list(zip(clima_encoding, temperatura_encoding, jogou_encoding))\n",
    "\n",
    "#Vamos ver o resultado\n",
    "print(lista)"
   ]
  },
  {
   "cell_type": "code",
   "execution_count": 9,
   "metadata": {},
   "outputs": [
    {
     "name": "stdout",
     "output_type": "stream",
     "text": [
      "    A  B  C\n",
      "0   1  1  1\n",
      "1   1  1  0\n",
      "2   2  1  1\n",
      "3   0  2  1\n",
      "4   0  0  1\n",
      "5   0  0  0\n",
      "6   2  0  1\n",
      "7   1  2  0\n",
      "8   1  0  1\n",
      "9   0  2  1\n",
      "10  1  2  1\n",
      "11  2  2  1\n",
      "12  2  1  1\n",
      "13  0  2  0\n"
     ]
    }
   ],
   "source": [
    "#Atribuíndo os rótulos a uma matriz n-dimensional\n",
    "X = np.array(lista, dtype=np.int32)\n",
    "\n",
    "#Visualizando os dados em DataFrame\n",
    "colunas = ['A', 'B', 'C']\n",
    "print(pd.DataFrame(X, columns=colunas, dtype=np.int32))"
   ]
  },
  {
   "cell_type": "code",
   "execution_count": 10,
   "metadata": {},
   "outputs": [
    {
     "name": "stdout",
     "output_type": "stream",
     "text": [
      "    Classe\n",
      "0        1\n",
      "1        0\n",
      "2        1\n",
      "3        1\n",
      "4        1\n",
      "5        0\n",
      "6        1\n",
      "7        0\n",
      "8        1\n",
      "9        1\n",
      "10       1\n",
      "11       1\n",
      "12       1\n",
      "13       0\n"
     ]
    }
   ],
   "source": [
    "#Visualizando os dados da Classe em DataFrame\n",
    "print(pd.DataFrame(y, columns=['Classe'], dtype=np.int32))"
   ]
  },
  {
   "cell_type": "code",
   "execution_count": 11,
   "metadata": {},
   "outputs": [],
   "source": [
    "#Podemos também vizualizar os dados em gráficos, no exemplo iremos utilizar o matplotlib\n",
    "\n",
    "import matplotlib.pyplot as plt\n",
    "%matplotlib inline"
   ]
  },
  {
   "cell_type": "code",
   "execution_count": 15,
   "metadata": {},
   "outputs": [
    {
     "name": "stdout",
     "output_type": "stream",
     "text": [
      "Soma dos rótulos: [3, 2, 4, 3, 1, 0, 3, 3, 2, 3, 4, 5, 4, 2]\n",
      "Classe: [1, 0, 1, 1, 1, 0, 1, 0, 1, 1, 1, 1, 1, 0]\n"
     ]
    },
    {
     "data": {
      "image/png": "[encoded data removed]",
      "text/plain": [
       "<Figure size 432x288 with 1 Axes>"
      ]
     },
     "metadata": {
      "needs_background": "light"
     },
     "output_type": "display_data"
    }
   ],
   "source": [
    "#Ajustando os dados para produzir o gráfico\n",
    "xX = []\n",
    "for i, x in enumerate(X):\n",
    "    xX.append([list(x), y[i][0]])\n",
    "\n",
    "dX = [(x[0][0] + x[0][1] + x[0][2]) for x in xX]\n",
    "dY = [x[1] for x in xX]\n",
    "\n",
    "print('Soma dos rótulos:', dX)\n",
    "print('Classe:', dY)\n",
    "\n",
    "fig, ax = plt.subplots()\n",
    "ax.plot(dX)\n",
    "ax.plot(dY)\n",
    "plt.show()"
   ]
  },
  {
   "cell_type": "markdown",
   "metadata": {},
   "source": [
    "No plot acima podemos ver a quantidade de jogos em relação ao clima(a soma dos eventos climáticos)."
   ]
  },
  {
   "cell_type": "markdown",
   "metadata": {},
   "source": [
    "#### Aplicando o modelo de k-NN"
   ]
  },
  {
   "cell_type": "markdown",
   "metadata": {},
   "source": [
    "Vamos aplicar o classificador usando o sklearn."
   ]
  },
  {
   "cell_type": "code",
   "execution_count": 31,
   "metadata": {},
   "outputs": [
    {
     "name": "stdout",
     "output_type": "stream",
     "text": [
      "[[2 1 1]\n",
      " [0 2 0]\n",
      " [0 2 1]\n",
      " [1 1 0]\n",
      " [1 2 0]\n",
      " [1 2 1]\n",
      " [0 2 1]\n",
      " [1 1 1]\n",
      " [0 0 0]\n",
      " [2 1 1]]\n"
     ]
    }
   ],
   "source": [
    "from sklearn import model_selection\n",
    "from sklearn.metrics import accuracy_score\n",
    "from sklearn.neighbors import KNeighborsClassifier\n",
    "\n",
    "#Dividido os dados, onde o treinamento ficará com 75% e teste 25%, eu sempre uso este padrão :)\n",
    "X_train, X_test, y_train, y_test = model_selection.train_test_split(X, y, test_size=0.25, random_state=0)\n",
    "\n",
    "print(X_train) #Dados dos rótulos"
   ]
  },
  {
   "cell_type": "code",
   "execution_count": 24,
   "metadata": {},
   "outputs": [
    {
     "name": "stdout",
     "output_type": "stream",
     "text": [
      "[1 1 1 1 1 1 1 0 0 1]\n"
     ]
    }
   ],
   "source": [
    "print(y_train) #Dados das classes"
   ]
  },
  {
   "cell_type": "code",
   "execution_count": 34,
   "metadata": {},
   "outputs": [
    {
     "name": "stdout",
     "output_type": "stream",
     "text": [
      "Precisão: 75.0%\n"
     ]
    }
   ],
   "source": [
    "#Gerando o modelo, vou deixar os parâmetros padrão\n",
    "knn = KNeighborsClassifier(n_neighbors=3)\n",
    "\n",
    "#Treinando o modelo\n",
    "knn.fit(X=X_train, y=y_train)\n",
    "\n",
    "#Avaliando a pontuação do modelo, usando os dados de teste\n",
    "pontuacao = str(accuracy_score(knn.predict(X_test), y_test) * 100)\n",
    "print(\"Precisão: \"+pontuacao+\"%\")"
   ]
  },
  {
   "cell_type": "code",
   "execution_count": null,
   "metadata": {},
   "outputs": [],
   "source": []
  }
 ],
 "metadata": {
  "kernelspec": {
   "display_name": "Python 3",
   "language": "python",
   "name": "python3"
  },
  "language_info": {
   "codemirror_mode": {
    "name": "ipython",
    "version": 3
   },
   "file_extension": ".py",
   "mimetype": "text/x-python",
   "name": "python",
   "nbconvert_exporter": "python",
   "pygments_lexer": "ipython3",
   "version": "3.6.8"
  }
 },
 "nbformat": 4,
 "nbformat_minor": 2
}
