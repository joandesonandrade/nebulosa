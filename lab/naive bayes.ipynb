{
 "cells": [
  {
   "cell_type": "markdown",
   "metadata": {},
   "source": [
    "# Aplicando Naive Bayes em dados"
   ]
  },
  {
   "cell_type": "markdown",
   "metadata": {},
   "source": [
    "### Dados\n",
    "Uma das etapas mais importante é a coleta de dados, neste exemplo ireis usar alguns dados gerado manualmente. Já que o Naive Bayes é uma técnica que não precisa de muitos dados para obter bons resultados.\n",
    "\n",
    "O objetivo desse Notebook será a utilização do algotimo Naive Bayes para tentar prever se com um determinado tempo usando treinamento supervisonado(dados conhecidos), iremos prevê se haverá jogo usando dados não conhecido pelo modelo treinado."
   ]
  },
  {
   "cell_type": "raw",
   "metadata": {},
   "source": [
    "Os dados abaixo são o clima, temperatura e oque houve no jogo: Sim pois jogaram, Nao pois não jogaram.\n",
    "Salve esses dados abaixo em formato CSV(dados separados por vírgulas).\n",
    "Salvei dentro da pasta dados/001.csv\n",
    "\n",
    "clima,temperatura,jogou\n",
    "\"Ensolarado\",\"Quente\",\"Sim\"\n",
    "\"Ensolarado\",\"Quente\",\"Nao\"\n",
    "\"Nublado\",\"Quente\",\"Sim\"\n",
    "\"Chuvoso\",\"Suave\",\"Sim\"\n",
    "\"Chuvoso\",\"Legal\",\"Sim\"\n",
    "\"Chuvoso\",\"Legal\",\"Nao\"\n",
    "\"Nublado\",\"Legal\",\"Sim\"\n",
    "\"Ensolarado\",\"Suave\",\"Nao\"\n",
    "\"Ensolarado\",\"Legal\",\"Sim\"\n",
    "\"Chuvoso\",\"Suave\",\"Sim\"\n",
    "\"Ensolarado\",\"Suave\",\"Sim\"\n",
    "\"Nublado\",\"Suave\",\"Sim\"\n",
    "\"Nublado\",\"Quente\",\"Sim\"\n",
    "\"Chuvoso\",\"Suave\",\"Nao\""
   ]
  },
  {
   "cell_type": "markdown",
   "metadata": {},
   "source": [
    "### Tratamento dos dados\n",
    "\n",
    "O primeiro passo antes do treinamento é a preparação dos dados, etapa onde chega ser muito trabalho e difícil. poís quando trabalhamos com uma grande quantidade de dados, é normal, alguns dados terem um desfio padrão dos conhecidos afetando e muito o resultados do modelo, normalmente grandes empresas, utilizam de funcionarios para tentar normalizar os dados de forma manual, contato isso demanda muito dinheiro e tempo. Porém alguns algoritmos possibilitam a normalização dos dados, já que a gente estamos trabalhando com dados somente para questão didática, não teremos esse problema."
   ]
  },
  {
   "cell_type": "markdown",
   "metadata": {},
   "source": [
    "#### Transformar os dados em números"
   ]
  },
  {
   "cell_type": "code",
   "execution_count": 8,
   "metadata": {},
   "outputs": [
    {
     "name": "stdout",
     "output_type": "stream",
     "text": [
      "[1 1 2 0 0 0 2 1 1 0 1 2 2 0]\n"
     ]
    }
   ],
   "source": [
    "from sklearn import preprocessing\n",
    "from sklearn.model_selection import train_test_split\n",
    "from sklearn.naive_bayes import GaussianNB\n",
    "import pandas\n",
    "import numpy\n",
    "\n",
    "\n",
    "#Função que codifica os rótulos para uma sequência de números baseados na quantidade, supondo que existe os valores A, B, C neste exemplo a funçao ira atribuir o A=1; B=2; C=3...\n",
    "le = preprocessing.LabelEncoder()\n",
    "\n",
    "#Lendo os dados usando a biblioteca pandas.\n",
    "dados = pandas.read_csv(\"dados/001.csv\")\n",
    "\n",
    "#Transformando os valores em números\n",
    "clima_codificado = le.fit_transform(dados[\"clima\"])\n",
    "temperatura_codificado = le.fit_transform(dados[\"temperatura\"])\n",
    "jogou_codificado = le.fit_transform(dados[\"jogou\"])\n",
    "\n",
    "print(clima_codificado)"
   ]
  },
  {
   "cell_type": "markdown",
   "metadata": {},
   "source": [
    "#### Aplicando o algoritmo Naive Bayes de fato"
   ]
  },
  {
   "cell_type": "code",
   "execution_count": null,
   "metadata": {},
   "outputs": [],
   "source": [
    "#Rótudo dos dados\n",
    "y = numpy.array(jogou_codificado)\n",
    "\n",
    "#Separando os dados para treinos e para teste Treino=75% e Teste=25%\n",
    "lista = list(zip(clima_codificado, temperatura_codificado))\n",
    "X = numpy.asarray(lista)\n",
    "X_train, X_test, y_train, y_test = train_test_split(X, y, test_size=0.25)\n",
    "\n",
    "#criando o modelo de Naive Bayes Gaussian\n",
    "modelo = GaussianNB()\n",
    "\n",
    "#Treinamendo o modelo usando os dados\n",
    "modelo.fit(X=X_train, y=y_train)\n",
    "\n",
    "#Testando a precisão do nosso modelo\n",
    "print(\"Precisão de\", str(accuracy_score(y_test, modelo.predict(X_test)))+\"%\")"
   ]
  }
 ],
 "metadata": {
  "kernelspec": {
   "display_name": "Python 3",
   "language": "python",
   "name": "python3"
  },
  "language_info": {
   "codemirror_mode": {
    "name": "ipython",
    "version": 3
   },
   "file_extension": ".py",
   "mimetype": "text/x-python",
   "name": "python",
   "nbconvert_exporter": "python",
   "pygments_lexer": "ipython3",
   "version": "3.6.8"
  }
 },
 "nbformat": 4,
 "nbformat_minor": 2
}
